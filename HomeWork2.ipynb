{
 "cells": [
  {
   "cell_type": "code",
   "execution_count": 6,
   "id": "dc7c47de-a695-40b3-b186-fbd2564a28e0",
   "metadata": {},
   "outputs": [
    {
     "name": "stdout",
     "output_type": "stream",
     "text": [
      "t\n"
     ]
    }
   ],
   "source": [
    "word = 'Kukkabar'\n",
    "lenOfWord = len(word)\n",
    "if lenOfWord%2 == 0:\n",
    "    print(word[int(lenOfWord/2 - 1)]+word[int(lenOfWord/2)])\n",
    "else:\n",
    "    print(word[lenOfWord//2])"
   ]
  },
  {
   "cell_type": "code",
   "execution_count": null,
   "id": "0afc650d-8e07-46fe-9738-c9c3a31d4534",
   "metadata": {},
   "outputs": [],
   "source": []
  }
 ],
 "metadata": {
  "kernelspec": {
   "display_name": "Python 3 (ipykernel)",
   "language": "python",
   "name": "python3"
  },
  "language_info": {
   "codemirror_mode": {
    "name": "ipython",
    "version": 3
   },
   "file_extension": ".py",
   "mimetype": "text/x-python",
   "name": "python",
   "nbconvert_exporter": "python",
   "pygments_lexer": "ipython3",
   "version": "3.12.4"
  }
 },
 "nbformat": 4,
 "nbformat_minor": 5
}

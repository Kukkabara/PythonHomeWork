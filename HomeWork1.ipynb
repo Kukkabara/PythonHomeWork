{
 "cells": [
  {
   "cell_type": "code",
   "execution_count": 3,
   "id": "758b1e9b-ed3c-4689-b033-0c8e46991bd9",
   "metadata": {},
   "outputs": [
    {
     "name": "stdin",
     "output_type": "stream",
     "text": [
      "Введите год 2020\n"
     ]
    },
    {
     "name": "stdout",
     "output_type": "stream",
     "text": [
      "Это високосный год\n"
     ]
    }
   ],
   "source": [
    "year = int(input('Введите год'))\n",
    "if year % 4 == 0:\n",
    "    if year % 100 == 0:\n",
    "        if year % 400 == 0:\n",
    "            print('Это високосный год')\n",
    "        else:\n",
    "            print('Это обычный год')\n",
    "    else:\n",
    "        print('Это високосный год')\n",
    "else:\n",
    "    print('Это обычный год')"
   ]
  },
  {
   "cell_type": "code",
   "execution_count": null,
   "id": "d8a090fb-8210-48b3-89c1-19ec97fca69f",
   "metadata": {},
   "outputs": [],
   "source": []
  }
 ],
 "metadata": {
  "kernelspec": {
   "display_name": "Python 3 (ipykernel)",
   "language": "python",
   "name": "python3"
  },
  "language_info": {
   "codemirror_mode": {
    "name": "ipython",
    "version": 3
   },
   "file_extension": ".py",
   "mimetype": "text/x-python",
   "name": "python",
   "nbconvert_exporter": "python",
   "pygments_lexer": "ipython3",
   "version": "3.12.4"
  }
 },
 "nbformat": 4,
 "nbformat_minor": 5
}

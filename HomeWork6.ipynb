{
 "cells": [
  {
   "cell_type": "code",
   "execution_count": null,
   "id": "d44b0602-0c68-4441-a89c-131e64408b03",
   "metadata": {},
   "outputs": [],
   "source": [
    "file_to_write = open(funnel.csv, 'w')\n",
    "file = open(visit_log.csv, 'r')\n",
    "for str in file:\n",
    "    arr = str.split(',')\n",
    "    if arr[2] != 'None':\n",
    "        file_to_write.write((','.join(arr))/n)\n",
    "file.close()\n",
    "file_to_write.close()\n",
    "file_to_output = open(funnel.csv, 'r')\n",
    "for i in range(3):\n",
    "    file_to_output.readline()\n",
    "file_to_output.close()   "
   ]
  }
 ],
 "metadata": {
  "kernelspec": {
   "display_name": "Python 3 (ipykernel)",
   "language": "python",
   "name": "python3"
  },
  "language_info": {
   "codemirror_mode": {
    "name": "ipython",
    "version": 3
   },
   "file_extension": ".py",
   "mimetype": "text/x-python",
   "name": "python",
   "nbconvert_exporter": "python",
   "pygments_lexer": "ipython3",
   "version": "3.12.4"
  }
 },
 "nbformat": 4,
 "nbformat_minor": 5
}

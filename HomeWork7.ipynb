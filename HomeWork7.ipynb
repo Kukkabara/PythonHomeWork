{
 "cells": [
  {
   "cell_type": "code",
   "execution_count": null,
   "id": "08565fd5-8605-49a5-b6fc-b1be0056bff3",
   "metadata": {},
   "outputs": [],
   "source": [
    "def ClientsDescriptionEdit(to_read, to_write):\n",
    "    for str in to_read:\n",
    "        arr = str.split(',')\n",
    "        match arr[1]:\n",
    "            case 'mobile': device = 'mobile'\n",
    "            case 'tablet': device = 'mobile'\n",
    "            case 'laptop': device = 'desktop'\n",
    "            case 'desktop': device = 'desktop'\n",
    "            case _: device = 'Error'\n",
    "        string_to_insert = 'User ' + arr[0] + ' ' + arr[3] + ' sex, ' + arr[4] + ' years old made a purchase of ' + arr[5] + ' with ' + device + ' brauser ' + arr[2] + '. Region: ' + arr[6] + '\\n'\n",
    "        to_write.write(string_to_insert)\n",
    "    to_read.close()\n",
    "    to_write.close()\n",
    "    \n",
    "ClientsDescriptionEdit(open('web_clients_correct.csv', 'r'), open('Clients_description.TXT', 'w'))"
   ]
  }
 ],
 "metadata": {
  "kernelspec": {
   "display_name": "Python 3 (ipykernel)",
   "language": "python",
   "name": "python3"
  },
  "language_info": {
   "codemirror_mode": {
    "name": "ipython",
    "version": 3
   },
   "file_extension": ".py",
   "mimetype": "text/x-python",
   "name": "python",
   "nbconvert_exporter": "python",
   "pygments_lexer": "ipython3",
   "version": "3.12.4"
  }
 },
 "nbformat": 4,
 "nbformat_minor": 5
}

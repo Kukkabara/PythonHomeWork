{
 "cells": [
  {
   "cell_type": "code",
   "execution_count": 10,
   "id": "7e0922bb-173d-4f3b-a562-00057fc089ac",
   "metadata": {},
   "outputs": [],
   "source": [
    "items = {\n",
    "'milk15':{'name': 'молоко 1.5%', 'count': 34, 'price': 89.9},\n",
    "'cheese':{'name': 'сыр молочный 1 кг', 'count': 12, 'price' : 990.9},\n",
    "'sausage':{'name': 'колбаса 1 кг', 'count': 122, 'price': 1990.9}\n",
    "}\n",
    "count_less_20 = {Name :('True' if items[Name]['count'] < 20 else 'False')  for Name in items.keys() }"
   ]
  }
 ],
 "metadata": {
  "kernelspec": {
   "display_name": "Python 3 (ipykernel)",
   "language": "python",
   "name": "python3"
  },
  "language_info": {
   "codemirror_mode": {
    "name": "ipython",
    "version": 3
   },
   "file_extension": ".py",
   "mimetype": "text/x-python",
   "name": "python",
   "nbconvert_exporter": "python",
   "pygments_lexer": "ipython3",
   "version": "3.12.4"
  }
 },
 "nbformat": 4,
 "nbformat_minor": 5
}
